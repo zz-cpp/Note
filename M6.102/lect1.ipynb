{
 "cells": [
  {
   "cell_type": "markdown",
   "metadata": {},
   "source": [
    "# Reading 1: Static Checking"
   ]
  },
  {
   "cell_type": "markdown",
   "metadata": {},
   "source": [
    "## Hailstone sequence"
   ]
  },
  {
   "cell_type": "code",
   "execution_count": 10,
   "metadata": {
    "slideshow": {
     "slide_type": "notes"
    },
    "tags": []
   },
   "outputs": [
    {
     "name": "stdout",
     "output_type": "stream",
     "text": [
      "\u001b[33m3\u001b[39m\n",
      "\u001b[33m10\u001b[39m\n",
      "\u001b[33m5\u001b[39m\n",
      "\u001b[33m16\u001b[39m\n",
      "\u001b[33m8\u001b[39m\n",
      "\u001b[33m4\u001b[39m\n",
      "\u001b[33m2\u001b[39m\n",
      "\u001b[33m1\u001b[39m\n"
     ]
    }
   ],
   "source": [
    "\n",
    "// JavaScript (or TypeScript, this code works in both languages)\n",
    "let n = 3;\n",
    "while (n !== 1) {\n",
    "    console.log(n);\n",
    "    if (n % 2 === 0) {\n",
    "        n = n / 2;\n",
    "    } else {\n",
    "        n = 3 * n + 1;\n",
    "    }\n",
    "}\n",
    "console.log(n);"
   ]
  },
  {
   "cell_type": "markdown",
   "metadata": {},
   "source": [
    "```python\n",
    "n = 3\n",
    "while n != 1:\n",
    "    print(n)\n",
    "    if n % 2 == 0:\n",
    "        n = n / 2\n",
    "    else:\n",
    "        n = 3 * n + 1\n",
    "print(n)\n",
    "```\n",
    "* Python hailstone sequence\n",
    "\n",
    "Note: \n",
    "* we use \"===\" not \"==\". the \"==\" will try to translate the type and complete. **should use ===** \n",
    "* TS type:\n",
    "  * number,representing int and float\n",
    "  * boolean,\n",
    "  * string"
   ]
  },
  {
   "cell_type": "markdown",
   "metadata": {},
   "source": [
    "## 静态类型"
   ]
  },
  {
   "cell_type": "markdown",
   "metadata": {},
   "source": [
    "静态类型，一种特殊的静态检查。他会在编译时（程序运行之前），根据表达式(let n: number = 3),那么此时，n的类型就被认为是3,类型是number。\n",
    "对于n+1的结果也会被认为是number类型。\n",
    "JS和Python之所以被认为是动态类型语言，是因为他们将这种类型的检查推迟到程序运行时。也就是说一个变量n，只有当程序运行时，解释器才知道他是什么类型。对于这个变量执行的操作是否合理，也只有在执行时才能够检测。\n",
    "类似于\"5\"*\"6\"，字符串执行了乘法（这应该是不允许的），静态类型将仍在编程时捕获此错误，而不是等到执行期间到达该行。"
   ]
  },
  {
   "cell_type": "markdown",
   "metadata": {},
   "source": [
    "### 编译时静态类型，运行时动态类型"
   ]
  },
  {
   "cell_type": "markdown",
   "metadata": {},
   "source": [
    "如同JAVA的动态类型选择。当你声明一个父类：Animal。在实例化时，你可能会给他分配子类的对象，类似，cat，Dog等。\n",
    "也就是说，在编译时的类型（初始状态）在一开始由声明确定，但是这实际的值（对象或者变量值）是会在运行时改变。\n",
    "\n",
    "TypeScript本质上是JS的超集，会编译成JS，省去静态的信息。\n",
    "\n",
    "```ts\n",
    "// TypeScript to compile\n",
    "function hello(name: string): string {\n",
    "    return 'Hi, ' + name;\n",
    "}\n",
    "let greeting: string = hello('types');\n",
    "```\n",
    "编译之后\n",
    "\n",
    "```js\n",
    "// JavaScript generated\n",
    "function hello(name) {\n",
    "    return 'Hi, ' + name;\n",
    "}\n",
    "let greeting = hello('types');  \n",
    "```\n",
    "\n",
    "Python3.5之后也加入了静态类型扩展\n",
    "\n",
    "```python\n",
    "# Python function declared with type hints\n",
    "def hello(name: str) -> str:\n",
    "    return 'Hi, ' + name\n",
    "```\n",
    "**在 Python 和 JavaScript 等动态类型语言中添加静态类型反映了软件工程师的普遍信念，即使用静态类型对于构建和维护大型软件系统至关重要。**\n",
    "\n",
    "[Gradual typing](https://en.wikipedia.org/wiki/Gradual_typing)"
   ]
  },
  {
   "cell_type": "markdown",
   "metadata": {},
   "source": [
    "## 静态检查、动态检查、不检查"
   ]
  },
  {
   "cell_type": "markdown",
   "metadata": {},
   "source": [
    "### 语言的三种检查：\n",
    "1. 静态检查：在程序运行之前就会自动发现错误。\n",
    "2. 动态检查：代码执行时会自动发现错误。\n",
    "3. 不检查：该语言根本无法帮助您找到错误。你必须自己注意，否则最终会得到错误的答案。\n",
    "\n",
    "静态检查可以捕获：\n",
    "\n",
    "* 语法错误，例如多余的标点符号或虚假单词。即使像 Python 这样的动态类型语言也会进行这种静态检查。如果 Python 程序中存在缩进错误，您会在程序开始运行之前发现。\n",
    "* 拼写错误的名字，例如Math.sine(2). （正确的拼写是sin。）\n",
    "* 参数数量错误，例如Math.sin(30, 20).\n",
    "* 错误的参数类型，例如Math.sin(\"30\").\n",
    "* 错误的返回类型，例如return \"30\";声明返回number.\n",
    "\n",
    "动态检查可以捕获，例如：\n",
    "\n",
    "* 特定的非法参数值。例如，当为零时，表达式x/y是错误的，但对于y的其他值则定义良好。因此除以零不是静态错误，因为直到运行时您才能知道实际上是否为零。但除以零可能会被视为动态错误；当这种情况发生时， Python 会抛出异常：ZeroDivisionError。\n",
    "* 非法转换，即特定值无法转换为目标类型或无法用目标类型表示。例如，在Python中，int(\"hello\")抛出ValueError，因为字符串\"hello\"无法解析为十进制整数。\n",
    "* 索引超出范围或缺少键，例如，在字符串或数组上使用太大的索引。在 Python 中，\"hello\"[13]有 throwsIndexError和{'a': 1}['b']throws KeyError。\n",
    "\n",
    "有上述可知，动态检查捕获的是特殊值的错误（0,越界，无法转换）。静态检查捕获的是值的类型（返回值，参数与定义不符，不存在的变量，参数数量等）。\n"
   ]
  },
  {
   "cell_type": "markdown",
   "metadata": {},
   "source": [
    "### TypeScript的动态检查\n",
    "\n",
    "TypeScript 执行静态检查，但其运行时行为完全由JavaScript提供，并且 JavaScript 的设计者决定不对其中许多情况进行检查。因此\n",
    "* 当字符串或数组索引超出范围，或者在映射中找不到键时，JavaScript 将返回特殊值undefined，而不是像 Python 那样抛出错误。\n",
    "* 当除以零时，JavaScript 返回一个表示无穷大的特殊值，而不是抛出错误。\n",
    "不进行检查会使错误比其他情况更难发现，因为特殊值可以通过进一步的计算传播，直到故障最终发生在距离代码中原始错误更远的地方。"
   ]
  },
  {
   "cell_type": "markdown",
   "metadata": {},
   "source": [
    "### TypeScript中的number类型\n",
    "TypeScript 中的另一个陷阱（许多其他编程语言也有这种陷阱）是，它的数字类型存在一些极端情况，其行为与我们习惯的整数和实数不同。结果，一些真正应该动态检查的错误根本没有被检查。以下是 TypeScript 中隐藏的一些陷阱：\n",
    "* 整数的精度有限。TypeScript 中的所有数字都是浮点数，这意味着大整数只能近似表示。可以精确表示 $-2^{53}$ 到 $2^{53}$（不包括）之间的整数，但超出该范围，浮点表示仅保留该数字的最高有效二进制数字。如果您有 $2^{60}$并尝试增加它，这意味着什么？你会再次得到相同的数字：$2^{60} + 1 === 2^{60}$。这是一个我们可能希望是动态错误（因为我们编写的计算无法正确表示）却产生错误答案的示例。\n",
    "* 特殊值。该number类型有几个非实数的特殊值：（Number.NaN代表“非数字”）、Number.POSITIVE_INFINITY和Number.NEGATIVE_INFINITY。因此，当您将某些运算应用于您希望产生动态误差的的一个number类型的变量时，例如除以零或取负数的平方根，您将得到这些特殊值之一。如果你继续用它计算，你最终会得到一个糟糕的最终答案。\n",
    "* 上溢和下溢。超出某一点之后，非常大和非常小的数字也无法表示。 Number.MAX_VALUE大约为 $10^{308}$，并且Number.MIN_VALUE大约为 $10^{-324}$。当您进行计算时，如果结果太大或太小（太接近零）而无法适应该有限范围，会发\n",
    "* 生什么情况？计算将悄悄地溢出（变成POSITIVE_INFINITY或NEGATIVE_INFINITY）或下溢（变成零）。\n",
    "\n",
    "这些特殊的常量值以大写的 开头Number，它是 number的类包装器。不要使用**Number**作为一个类型，仅使用它来访问这些常量。**当声明类型时，始终使用小写字母number**。"
   ]
  },
  {
   "cell_type": "markdown",
   "metadata": {},
   "source": [
    "### Reading problem"
   ]
  },
  {
   "cell_type": "code",
   "execution_count": 2,
   "metadata": {},
   "outputs": [
    {
     "name": "stdout",
     "output_type": "stream",
     "text": [
      "\u001b[33m0.9999999999999999\u001b[39m\n"
     ]
    }
   ],
   "source": [
    "let x: number = 0;\n",
    "x += 0.1; x += 0.1;\n",
    "x += 0.1; x += 0.1;\n",
    "x += 0.1; x += 0.1;\n",
    "x += 0.1; x += 0.1;\n",
    "x += 0.1; x += 0.1;\n",
    "// x should be 1.0"
   ]
  },
  {
   "cell_type": "markdown",
   "metadata": {},
   "source": [
    "explain：\n",
    "* 期望能够得到整数1（1/10被加了10次）但是浮点运算是不精确的，特别是当所涉及的数字的小数部分无法用基数 2 精确表示时。"
   ]
  },
  {
   "cell_type": "code",
   "execution_count": 6,
   "metadata": {},
   "outputs": [
    {
     "name": "stdout",
     "output_type": "stream",
     "text": [
      "\u001b[33mInfinity\u001b[39m\n"
     ]
    }
   ],
   "source": [
    "let sum: number = 7;\n",
    "let n: number = 0;\n",
    "let average: number = sum / n;\n",
    "console.log(average);\n"
   ]
  },
  {
   "cell_type": "markdown",
   "metadata": {},
   "source": [
    "explain:\n",
    "* TS中除以0不会抛出异常，而是返回一个特殊的值：Number.POSITIVE_INFINITY"
   ]
  },
  {
   "cell_type": "code",
   "execution_count": null,
   "metadata": {},
   "outputs": [],
   "source": [
    "let n: number = 2 ** 55;\n",
    "while (n !== 2 ** 60) {\n",
    "    n = n + 1;\n",
    "}"
   ]
  },
  {
   "cell_type": "markdown",
   "metadata": {},
   "source": [
    "explain:\n",
    "* n的初始值为 $2^{55}$ ，这个值太大了，无法用number精确表达。随着n的增加进一步超出number中整数可表达的安全范围，它会失去低位数字的精度。这意味着n = n + 1不再对 产生任何影响n，因此循环永远不会达到 $2^{60}$。\n",
    "* [code](https://www.typescriptlang.org/play?target=7#code/DYUwLgBAdgXNCuBbARiAThAvBATAKjwFYBmAbgCgB3ACwEtQIAKKCAQk23zwDYAGASggBvchDERaAMyZQA1AEYsHaIJHj1EAMYB7KAGdtoAHTBtAc0YByWlEk3aYEBFPaADnBZ6wb1yAAmWtQAhlBmNmYQQWCWADQqFBriyGggQQDWCeIAvqLiLNgsshDyFDlAA)\n"
   ]
  },
  {
   "cell_type": "markdown",
   "metadata": {},
   "source": [
    "## 数组"
   ]
  },
  {
   "cell_type": "markdown",
   "metadata": {},
   "source": [
    "* 使用数组，保存冰雹序列\n",
    "* let array: Array<number> = [];"
   ]
  },
  {
   "cell_type": "code",
   "execution_count": 9,
   "metadata": {},
   "outputs": [
    {
     "name": "stdout",
     "output_type": "stream",
     "text": [
      "3,10,5,16,8,4,2,1\n"
     ]
    }
   ],
   "source": [
    "let array: Array<number> = [];\n",
    "let n: number = 3;\n",
    "while (n !== 1) {\n",
    "    array.push(n);\n",
    "    if (n % 2 === 0) {\n",
    "        n = n / 2;\n",
    "    } else {\n",
    "        n = 3 * n + 1;\n",
    "    }\n",
    "}\n",
    "array.push(n);\n",
    "console.log(array.toString());"
   ]
  },
  {
   "cell_type": "markdown",
   "metadata": {},
   "source": [
    "## 函数\n"
   ]
  },
  {
   "cell_type": "markdown",
   "metadata": {},
   "source": [
    "将生成冰雹序列的代码封装成函数，以便之后能够复用。"
   ]
  },
  {
   "cell_type": "code",
   "execution_count": null,
   "metadata": {},
   "outputs": [],
   "source": [
    "/**\n",
    " * Compute a hailstone sequence.\n",
    " * @param n  starting number for sequence.  Assumes n > 0.\n",
    " * @returns hailstone sequence starting with n and ending with 1.\n",
    " */\n",
    "function hailstoneSequence(n: number): Array<number> {\n",
    "    let array: Array<number> = [];\n",
    "    while (n !== 1) {\n",
    "        array.push(n);\n",
    "        if (n % 2 === 0) {\n",
    "            n = n / 2;\n",
    "        } else {\n",
    "            n = 3 * n + 1;\n",
    "        }\n",
    "    }\n",
    "    array.push(n);\n",
    "    return array;\n",
    "}"
   ]
  },
  {
   "cell_type": "markdown",
   "metadata": {},
   "source": [
    "/** **/中的内容是函数的规范（specification），它描述了函数的输入，输出。注意，根据函数声明，已经有的信息我们不必重复，例如，它没有说返回值是一个数字数组，因为Array<number>下面的返回类型声明已经说明了这一点。但它确实表明序列以 1 开头n并以 1 结尾，这一点并没有体现在声明之中，但是对于调用者，这是个重要的信息。"
   ]
  },
  {
   "cell_type": "markdown",
   "metadata": {},
   "source": [
    "## Mutating values vs. reassigning variables"
   ]
  },
  {
   "cell_type": "markdown",
   "metadata": {},
   "source": [
    "Immutability：\n",
    "* 阻止一些事物在程序运行时发生变化（设计原则）\n",
    "* 有两个层面：\n",
    "  * 值是否可以改变（Mutation ）\n",
    "  * 变量是否可以重新分配（Reassignment）\n",
    "\n",
    "Mutation:\n",
    "* 不改变值的内容\n",
    "* 类似Python中的string，一旦创建就不能够对其修改\n",
    "* TS存在ReadonlyArray，这种数组不能够被修改类似Python中的与元组（tuple）。\n",
    "\n",
    "Reassignment:\n",
    "* 相当于改变指针的指向\n",
    "* TS允许添加const，之后改变由const修饰的变量，会报错。（Python允许所有变量被重新分配）\n",
    "* const n: number = 5; n的值不能够重新在分配\n",
    "\n",
    "``` ts\n",
    "// 错误使用只读数组\n",
    "function hailstoneSequence(n: number): ReadonlyArray<number> {\n",
    "    let array: ReadonlyArray<number> = [];\n",
    "    while (n !== 1) {\n",
    "        array.push(n);\n",
    "        if (n % 2 === 0) {\n",
    "            n = n / 2;\n",
    "        } else {\n",
    "            n = 3 * n + 1;\n",
    "        }\n",
    "    }\n",
    "    array.push(n);\n",
    "    return array;\n",
    "}\n",
    "```\n"
   ]
  },
  {
   "cell_type": "markdown",
   "metadata": {},
   "source": [
    "## 目标\n",
    "* Safe from bugs. Correctness (correct behavior right now) and defensiveness (correct behavior in the future) are required in any software we build.\n",
    "* Easy to understand. The code has to communicate to future programmers who need to understand it and make changes in it (fixing bugs or adding new features). That future programmer might be you, months or years from now. You’ll be surprised how much you forget if you don’t write it down, and how much it helps your own future self to have a good design.\n",
    "* Ready for change. Software always changes. Some designs make it easy to make changes; others require throwing away and rewriting a lot of code."
   ]
  }
 ],
 "metadata": {
  "kernelspec": {
   "display_name": "TypeScript",
   "language": "typescript",
   "name": "tslab"
  },
  "language_info": {
   "codemirror_mode": {
    "mode": "typescript",
    "name": "javascript",
    "typescript": true
   },
   "file_extension": ".ts",
   "mimetype": "text/typescript",
   "name": "typescript",
   "version": "3.7.2"
  },
  "orig_nbformat": 4
 },
 "nbformat": 4,
 "nbformat_minor": 2
}

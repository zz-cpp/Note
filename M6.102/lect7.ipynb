{
 "cells": [
  {
   "cell_type": "markdown",
   "metadata": {},
   "source": [
    "# Abstraction Functions & Rep Invariants\n",
    "Objectives\n",
    "今天的阅读介绍了几个概念：\n",
    "\n",
    "* invariants\n",
    "* representation exposure\n",
    "* abstraction functions\n",
    "* representation invariants\n",
    "在本篇阅读中，我们将通过抽象函数和rep invariants这两个概念，学习一个更正式的数学思想，即一个类实现一个 ADT 意味着什么。这些数学概念在软件设计中非常实用。抽象函数为我们提供了一种在抽象数据类型上清晰定义等效操作的方法（我们将在以后的课程中对此进行更深入的讨论）。rep invariant 使我们更容易捕捉到由数据结构损坏引起的错误。\n",
    "a$$\n"
   ]
  }
 ],
 "metadata": {
  "language_info": {
   "name": "python"
  },
  "orig_nbformat": 4
 },
 "nbformat": 4,
 "nbformat_minor": 2
}
